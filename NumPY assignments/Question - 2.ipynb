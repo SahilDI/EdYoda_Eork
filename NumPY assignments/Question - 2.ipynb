{
 "cells": [
  {
   "cell_type": "markdown",
   "metadata": {},
   "source": [
    "## Create a random vector of size 30 and find the mean value.\n"
   ]
  },
  {
   "cell_type": "code",
   "execution_count": 6,
   "metadata": {},
   "outputs": [
    {
     "name": "stdout",
     "output_type": "stream",
     "text": [
      "Array-\n",
      " [[0.49040871 0.86144284 0.38704153 0.03682602 0.50544431 0.65885287]\n",
      " [0.60164603 0.49035661 0.62783591 0.22047812 0.39718869 0.91216046]\n",
      " [0.57301783 0.20087381 0.0926032  0.05645792 0.47048152 0.51164412]\n",
      " [0.25232932 0.44612419 0.88239861 0.6102877  0.62835528 0.98411966]\n",
      " [0.46946409 0.19049947 0.8597643  0.97191939 0.3073485  0.99980482]]\n",
      "\n",
      "Mean of array - 0.5232391937166885\n"
     ]
    }
   ],
   "source": [
    "import numpy as np\n",
    "Array = np.random.random((5,6))\n",
    "print('Array-\\n',Array)\n",
    "Mean=np.mean(Array)\n",
    "\n",
    "print('\\nMean of array -',Mean)"
   ]
  }
 ],
 "metadata": {
  "kernelspec": {
   "display_name": "Python 3",
   "language": "python",
   "name": "python3"
  },
  "language_info": {
   "codemirror_mode": {
    "name": "ipython",
    "version": 3
   },
   "file_extension": ".py",
   "mimetype": "text/x-python",
   "name": "python",
   "nbconvert_exporter": "python",
   "pygments_lexer": "ipython3",
   "version": "3.7.4"
  }
 },
 "nbformat": 4,
 "nbformat_minor": 2
}
