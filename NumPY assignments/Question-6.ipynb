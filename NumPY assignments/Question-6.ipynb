{
 "cells": [
  {
   "cell_type": "markdown",
   "metadata": {},
   "source": [
    "## Concatenate following arrays along axis=0\n"
   ]
  },
  {
   "cell_type": "code",
   "execution_count": 6,
   "metadata": {},
   "outputs": [
    {
     "name": "stdout",
     "output_type": "stream",
     "text": [
      "x-\n",
      " [[1 2]\n",
      " [3 4]]\n",
      "y-\n",
      " [[5 6]]\n",
      "\n",
      "Concatenated array-\n",
      " [[1 2]\n",
      " [3 4]\n",
      " [5 6]]\n"
     ]
    }
   ],
   "source": [
    "import numpy as np\n",
    "  \n",
    "x=np.array([[1,2],[3,4]])\n",
    "y=np.array([[5,6]])\n",
    "  \n",
    "Conc_Arr = np.concatenate((x, y), axis = 0)\n",
    "print(\"x-\\n\",x)\n",
    "print(\"y-\\n\",y)\n",
    "print ('\\nConcatenated array-\\n',Conc_Arr)"
   ]
  }
 ],
 "metadata": {
  "kernelspec": {
   "display_name": "Python 3",
   "language": "python",
   "name": "python3"
  },
  "language_info": {
   "codemirror_mode": {
    "name": "ipython",
    "version": 3
   },
   "file_extension": ".py",
   "mimetype": "text/x-python",
   "name": "python",
   "nbconvert_exporter": "python",
   "pygments_lexer": "ipython3",
   "version": "3.7.4"
  }
 },
 "nbformat": 4,
 "nbformat_minor": 2
}
