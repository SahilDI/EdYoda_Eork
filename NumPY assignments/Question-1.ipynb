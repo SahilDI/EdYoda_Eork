{
 "cells": [
  {
   "cell_type": "markdown",
   "metadata": {},
   "source": [
    "## Use numpy to generate array of 25 random numbers sampled from a standard normal distribution\n"
   ]
  },
  {
   "cell_type": "code",
   "execution_count": 1,
   "metadata": {},
   "outputs": [
    {
     "name": "stdout",
     "output_type": "stream",
     "text": [
      "25 random numbers from a standard normal distribution:\n",
      "[-0.13904255  0.42401639 -0.20012754  0.17257502 -0.64831779 -0.14527244\n",
      "  0.53430274  1.92059746  0.48210844  0.65147795 -1.79377194 -0.97738736\n",
      " -0.13743918 -0.35888002  0.19512459 -0.32968003 -1.35190666  0.15598479\n",
      " -0.10441495  0.21205108  0.24658714  3.17963794 -0.15481594 -0.08355576\n",
      "  0.60678118]\n"
     ]
    }
   ],
   "source": [
    "import numpy as np\n",
    "rand_num = np.random.normal(0,1,25)\n",
    "print(\"25 random numbers from a standard normal distribution:\")\n",
    "print(rand_num)"
   ]
  }
 ],
 "metadata": {
  "kernelspec": {
   "display_name": "Python 3",
   "language": "python",
   "name": "python3"
  },
  "language_info": {
   "codemirror_mode": {
    "name": "ipython",
    "version": 3
   },
   "file_extension": ".py",
   "mimetype": "text/x-python",
   "name": "python",
   "nbconvert_exporter": "python",
   "pygments_lexer": "ipython3",
   "version": "3.7.4"
  }
 },
 "nbformat": 4,
 "nbformat_minor": 2
}
