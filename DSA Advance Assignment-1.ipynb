{
 "cells": [
  {
   "cell_type": "markdown",
   "metadata": {},
   "source": [
    "### 1.Write Linear Search Algorithm"
   ]
  },
  {
   "cell_type": "code",
   "execution_count": 1,
   "metadata": {},
   "outputs": [
    {
     "name": "stdout",
     "output_type": "stream",
     "text": [
      "1\n",
      "-1\n"
     ]
    }
   ],
   "source": [
    "def linSearch(arr, number): \n",
    "    for i in range(len(arr)):\n",
    "        if (arr[i] == number):\n",
    "            return i\n",
    "    return -1\n",
    "\n",
    "arr=[2,5,7,4,3]\n",
    "number=5\n",
    "print(linSearch(arr,number))\n",
    "number=10\n",
    "print(linSearch(arr,number))"
   ]
  },
  {
   "cell_type": "markdown",
   "metadata": {},
   "source": [
    "### 2.Write Binary Search Algorithm"
   ]
  },
  {
   "cell_type": "code",
   "execution_count": 2,
   "metadata": {},
   "outputs": [
    {
     "name": "stdout",
     "output_type": "stream",
     "text": [
      "6\n",
      "-1\n"
     ]
    }
   ],
   "source": [
    "def binarySearch(arr,element):\n",
    "    low=0\n",
    "    high=len(arr)-1\n",
    "\n",
    "    while(low <= high):\n",
    "        mid=(low+high)//2\n",
    "        if arr[mid]==element:\n",
    "            return mid\n",
    "        if arr[mid]>element:\n",
    "            high=mid-1\n",
    "        else:\n",
    "            low=mid+1\n",
    "    return -1\n",
    "\n",
    "arr=[1,5,8,9,10,12,45,89,123,126]\n",
    "number=45\n",
    "print(binarySearch(arr,number))\n",
    "number=39\n",
    "print(binarySearch(arr,number))"
   ]
  },
  {
   "cell_type": "markdown",
   "metadata": {},
   "source": [
    "### 3.Implement a dictionary sort using bubble sort"
   ]
  },
  {
   "cell_type": "code",
   "execution_count": 3,
   "metadata": {},
   "outputs": [
    {
     "data": {
      "text/plain": [
       "{1: 'a', 2: 'd', 4: 'c', 21: 'e', 25: 'b'}"
      ]
     },
     "execution_count": 3,
     "metadata": {},
     "output_type": "execute_result"
    }
   ],
   "source": [
    "def bubbleSort(arr):\n",
    "    arrKey=list(arr.keys())\n",
    "    for i in range(len(arrKey)):         \n",
    "        for j in range(0, len(arrKey)-i-1):                \n",
    "            if arrKey[j] > arrKey[j+1] :\n",
    "                arrKey[j], arrKey[j+1] = arrKey[j+1], arrKey[j]\n",
    "                \n",
    "    myarr={}\n",
    "    for key in arrKey:\n",
    "        myarr[key]=arr[key]\n",
    "    return myarr    \n",
    "                    \n",
    "mydict={1:\"a\",25:\"b\",4:\"c\",2:\"d\",21:\"e\"}\n",
    "bubbleSort(mydict)"
   ]
  },
  {
   "cell_type": "markdown",
   "metadata": {},
   "source": [
    "### 4.Sort an array of numbers using insertion sort"
   ]
  },
  {
   "cell_type": "code",
   "execution_count": 4,
   "metadata": {},
   "outputs": [
    {
     "name": "stdout",
     "output_type": "stream",
     "text": [
      "[1, 2, 4, 21, 25]\n"
     ]
    }
   ],
   "source": [
    "def insertionSort(arr):    \n",
    "    for i in range(1, len(arr)): \n",
    "        key = arr[i] \n",
    "        j = i-1\n",
    "        while j >= 0 and key < arr[j] :\n",
    "                arr[j + 1] = arr[j]\n",
    "                j -= 1\n",
    "        arr[j + 1] = key\n",
    "        \n",
    "arr=[1,25,4,2,21]\n",
    "insertionSort(arr)\n",
    "print(arr)"
   ]
  },
  {
   "cell_type": "markdown",
   "metadata": {},
   "source": [
    "### 5.Sort an array of numbers using selection sort"
   ]
  },
  {
   "cell_type": "code",
   "execution_count": 5,
   "metadata": {},
   "outputs": [
    {
     "name": "stdout",
     "output_type": "stream",
     "text": [
      "[1, 2, 4, 21, 25]\n"
     ]
    }
   ],
   "source": [
    "def selectionSort(arr):\n",
    "    for i in range(len(arr)):\n",
    "        min_idx = i\n",
    "        for j in range(i+1, len(arr)):\n",
    "            if arr[min_idx] > arr[j]:\n",
    "                min_idx = j\n",
    "        arr[i], arr[min_idx] = arr[min_idx], arr[i]\n",
    "        \n",
    "arr=[1,25,4,2,21]\n",
    "selectionSort(arr)\n",
    "print(arr)"
   ]
  },
  {
   "cell_type": "code",
   "execution_count": null,
   "metadata": {},
   "outputs": [],
   "source": []
  }
 ],
 "metadata": {
  "kernelspec": {
   "display_name": "Python 3",
   "language": "python",
   "name": "python3"
  },
  "language_info": {
   "codemirror_mode": {
    "name": "ipython",
    "version": 3
   },
   "file_extension": ".py",
   "mimetype": "text/x-python",
   "name": "python",
   "nbconvert_exporter": "python",
   "pygments_lexer": "ipython3",
   "version": "3.7.4"
  }
 },
 "nbformat": 4,
 "nbformat_minor": 2
}
